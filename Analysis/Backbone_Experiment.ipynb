{
 "cells": [
  {
   "cell_type": "code",
   "execution_count": null,
   "id": "df27922b",
   "metadata": {},
   "outputs": [],
   "source": [
    "# Import all relevant packages\n",
    "import pandas as pd\n",
    "import numpy as np\n",
    "from fcsy import DataFrame\n",
    "import matplotlib.pyplot as plt\n",
    "from matplotlib.lines import Line2D\n",
    "import seaborn as sns\n",
    "import os\n",
    "from utils import load_data\n",
    "from scipy.stats import pearsonr\n",
    "from statistics import mean, median, stdev\n",
    "from statannot import add_stat_annotation\n",
    "%load_ext autoreload\n",
    "%autoreload 2\n",
    "plt.style.use('plotstyle.mplstyle')"
   ]
  },
  {
   "cell_type": "code",
   "execution_count": null,
   "id": "a58181c8",
   "metadata": {},
   "outputs": [],
   "source": [
    "imputed_path = \"\"\n",
    "gt_path = \"\"\n",
    "figures_path = \"\"\n",
    "\n",
    "backbone_results = \"\""
   ]
  },
  {
   "cell_type": "code",
   "execution_count": null,
   "id": "674a02d0",
   "metadata": {},
   "outputs": [],
   "source": [
    "data = load_data(gt_path, imputed_path)\n",
    "data = data[data['imp_state']==0]\n",
    "data = data[data['method']=='CyTOFmerge']"
   ]
  },
  {
   "cell_type": "code",
   "execution_count": null,
   "id": "c55ce7fd",
   "metadata": {},
   "outputs": [],
   "source": [
    "all_markers = ['FITC-A', 'APC-A', 'BV605-A', 'BV786-A', 'PE-A', 'PE-CF594-A', 'BV711-A', \n",
    "                  'PC7-A', \"HV500c-A\", \"BUV395-A\", \"PerCP-Cy5-5-A\", \n",
    "                  \"BUV737-A\", \"BUV496-A\", \"BV421-A\", \"APC-R700-A\"]\n",
    "\n",
    "# Define how the different channels should be renamed in plots\n",
    "flow_rename = {'APC-A':'KLRG1',\n",
    "               'BV711-A':'TIM-3',\n",
    "               'FITC-A':'CD57',\n",
    "               'BV786-A':'CD27',\n",
    "               'PE-A':'CD28',\n",
    "               'PE-CF594-A':'CD95',\n",
    "               'PC7-A':'TIGIT',\n",
    "               'BV605-A':'PD-1',\n",
    "               'PerCP-Cy5-5-A':'CD14',\n",
    "               'BV421-A': 'CCR7',\n",
    "               'HV500c-A': 'CD45',\n",
    "               'BUV395-A': 'CD3',\n",
    "               'BUV496-A': 'CD8',\n",
    "               'BUV737-A': 'CD4'}"
   ]
  },
  {
   "cell_type": "code",
   "execution_count": null,
   "id": "0596e32f",
   "metadata": {},
   "outputs": [],
   "source": [
    "results = []\n",
    "for i in all_markers:\n",
    "    if i not in ['BUV395-A', 'APC-R700-A', 'PerCP-Cy5-5-A']:\n",
    "        for sample_id in data['sample_id'].unique():\n",
    "            sample_data = data[data['sample_id']==sample_id]\n",
    "            results.append({'Marker':flow_rename[i],\n",
    "                            'Sample': sample_id,\n",
    "                            'Absolute Pearson correlation': abs(pearsonr(sample_data[i], sample_data['APC-R700-A'])[0])})\n",
    "\n",
    "results = pd.DataFrame(results)\n",
    "results = results.sort_values('Absolute Pearson correlation')"
   ]
  },
  {
   "cell_type": "code",
   "execution_count": null,
   "id": "e49e69f3",
   "metadata": {
    "scrolled": true
   },
   "outputs": [],
   "source": [
    "imp_results = []\n",
    "for root, dirs, files in os.walk(backbone_results):\n",
    "    for file in files:\n",
    "        if file.endswith('_exprs.fcs'):\n",
    "            print(file.split('_')[0])\n",
    "            ff = DataFrame.from_fcs(root+'/'+file)\n",
    "            ff = ff[ff['dataset']==1]\n",
    "            gt = DataFrame.from_fcs(root+'/'+file.split('/')[-1].replace('CyTOFmerge_exprs', 'gt'))\n",
    "            gt = gt[gt['dataset']==1]\n",
    "                        \n",
    "            if file.split('_')[0][0:4] == 'Seed':\n",
    "                experiment = 'Sampled'\n",
    "            elif file.split('_')[0][0:4] == 'CD28':\n",
    "                experiment = 'Descending order'\n",
    "            else:\n",
    "                experiment = 'Ascending order'\n",
    "            \n",
    "            if experiment == 'Sampled':\n",
    "                seed = file.split('_')[0].split('|')[0]\n",
    "                n_sampled_markers = file.split('_')[0].split('|')[1].split('Sampled')[1]\n",
    "            else:\n",
    "                seed = None\n",
    "                n_sampled_markers = None\n",
    "\n",
    "            imp_results.append({'Sample': root.split('/')[-1],\n",
    "                                'Backbone': file.split('_')[0],\n",
    "                                'Seed': seed,\n",
    "                                'Sampled backbone size': n_sampled_markers,\n",
    "                                'Experiment': experiment,\n",
    "                                'Pearson correlation': pearsonr(ff['APC-R700-A'], gt['APC-R700-A'])[0]})\n",
    "imp_results = pd.DataFrame(imp_results)"
   ]
  },
  {
   "cell_type": "code",
   "execution_count": null,
   "id": "d22acd67",
   "metadata": {
    "scrolled": false
   },
   "outputs": [],
   "source": [
    "fig = plt.figure(figsize=(14, 8))\n",
    "\n",
    "gs = fig.add_gridspec(nrows=2, ncols=2)\n",
    "\n",
    "# Random permutations\n",
    "ax = fig.add_subplot(gs[0, 0])\n",
    "sampled = imp_results[~imp_results['Sampled backbone size'].isna()]\n",
    "sampled = sampled.sort_values('Sampled backbone size')\n",
    "PROPS = {'boxprops':{'facecolor':'none', 'edgecolor':'black'}, 'medianprops':{'color':'black'},\n",
    "         'whiskerprops':{'color':'black'},'capprops':{'color':'black'}}\n",
    "sns.boxplot(data=sampled, x='Sampled backbone size', y='Pearson correlation', color='white', \n",
    "            saturation=1, **PROPS, ax=ax)\n",
    "\n",
    "# Ranked correlations of markers\n",
    "ax = fig.add_subplot(gs[0, 1])\n",
    "order = results.groupby('Marker').median().sort_values('Absolute Pearson correlation', ascending=True)\n",
    "order = list(order.index)\n",
    "cellText = [order, [str(1+i) for i in reversed(range(len(order)))]]\n",
    "sns.barplot(data=results, x='Marker', y='Absolute Pearson correlation', color='#009cb4', order=order,\n",
    "            capsize=.05, errwidth=1.25, saturation=1, estimator=median, errorbar=('pi', 50), ax=ax)\n",
    "ax.set_ylabel('Absolute correlation with CD45RA')\n",
    "ax.set_xlabel('')\n",
    "ax.set_yticks([0.1, 0.2, 0.3, 0.4, 0.5])\n",
    "ax.set_xticks([])\n",
    "table = plt.table(cellText=cellText, rowLabels=['Marker', 'Rank'], bbox=[0, -0.22, 1, 0.2], \n",
    "          cellLoc='center', edges='open')\n",
    "table.auto_set_font_size(False)\n",
    "table.set_fontsize(10)\n",
    "\n",
    "# Sort the data\n",
    "imp_results = imp_results.sort_values(by=\"Backbone\", key=lambda x: x.str.len())\n",
    "\n",
    "ax = fig.add_subplot(gs[1, 0])\n",
    "sns.barplot(data=imp_results[imp_results['Experiment']=='Ascending order'], \n",
    "            order=imp_results[imp_results['Experiment']=='Ascending order']['Backbone'].unique(),\n",
    "            x='Backbone', y='Pearson correlation', color='#009cb4', capsize=.05, \n",
    "            errwidth=1.25, saturation=1, estimator=median, errorbar=('pi', 50), ax=ax)\n",
    "descending_ranks = ['12', '11-12', '10-12', '9-12', '8-12', '7-12', '6-12', '5-12', '4-12', '3-12', '2-12', '1-12']\n",
    "ax.set_xticklabels(descending_ranks)\n",
    "ax.set_xlabel('Backbone composition (ranks)')\n",
    "\n",
    "# Descending order\n",
    "ax = fig.add_subplot(gs[1, 1])\n",
    "sns.barplot(data=imp_results[imp_results['Experiment']=='Descending order'], \n",
    "            order=imp_results[imp_results['Experiment']=='Descending order']['Backbone'].unique(),\n",
    "            x='Backbone', y='Pearson correlation', color='#009cb4', capsize=.05, \n",
    "            errwidth=1.25, saturation=1, estimator=median, errorbar=('pi', 50), ax=ax)\n",
    "ax.set_xlabel('Rank')\n",
    "ascending_ranks = ['1', '1-2', '1-3', '1-4', '1-5', '1-6', '1-7', '1-8', '1-9', '1-10', '1-11', '1-12']\n",
    "ax.set_xticklabels(ascending_ranks)\n",
    "ax.set_xlabel('Backbone composition (ranks)')\n",
    "\n",
    "plt.subplots_adjust(wspace=0.2, hspace=0.3)"
   ]
  }
 ],
 "metadata": {
  "kernelspec": {
   "display_name": "Python 3 (ipykernel)",
   "language": "python",
   "name": "python3"
  },
  "language_info": {
   "codemirror_mode": {
    "name": "ipython",
    "version": 3
   },
   "file_extension": ".py",
   "mimetype": "text/x-python",
   "name": "python",
   "nbconvert_exporter": "python",
   "pygments_lexer": "ipython3",
   "version": "3.9.10"
  }
 },
 "nbformat": 4,
 "nbformat_minor": 5
}
