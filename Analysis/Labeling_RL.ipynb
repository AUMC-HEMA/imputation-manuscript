{
 "cells": [
  {
   "cell_type": "code",
   "execution_count": null,
   "id": "96d94ac4",
   "metadata": {},
   "outputs": [],
   "source": [
    "# Import all relevant packages\n",
    "import os\n",
    "import argparse\n",
    "import pandas as pd\n",
    "import numpy as np\n",
    "from fcsy import DataFrame\n",
    "import matplotlib.pyplot as plt\n",
    "from matplotlib.lines import Line2D\n",
    "from matplotlib.colors import ListedColormap\n",
    "import seaborn as sns\n",
    "from statistics import mean, median, stdev\n",
    "from scipy.stats import iqr\n",
    "from math import log2\n",
    "from sklearn.metrics import confusion_matrix, recall_score, precision_score, f1_score\n",
    "import umap\n",
    "plt.style.use('plotstyle.mplstyle')"
   ]
  },
  {
   "cell_type": "code",
   "execution_count": null,
   "id": "a3b08c95",
   "metadata": {},
   "outputs": [],
   "source": [
    "imputed_path = \"\"\n",
    "labeling_path = \"\""
   ]
  },
  {
   "cell_type": "code",
   "execution_count": null,
   "id": "f06d439e",
   "metadata": {},
   "outputs": [],
   "source": [
    "# Prefixes in the labeling\n",
    "pop_prefixes = ['CD27-, TIGIT subset', 'SCM', 'TIGIT+, KLRG1+ CM', 'TIM3 positive EM CD4',\n",
    "               'CD57, CD28 subset','KLRG1, TIGIT subset']\n",
    "\n",
    "# Suffixes and how they should be renamed\n",
    "rename = {'TIM3 positive EM CD4+': 'TIM-3+ \\n CD4+ $T_{EM}$',\n",
    "          'TIM3 positive EM CD4-': 'TIM-3- \\n CD4+ $T_{EM}$',\n",
    "          'SCM+': 'CD4+ $T_{SCM}$',\n",
    "          'SCM-': 'CD4+ $T_{N}$',\n",
    "          'TIGIT+, KLRG1+ CM+': 'TIGIT+/KLRG1+ \\n CD8+ $T_{CM}$',\n",
    "          'TIGIT+, KLRG1+ CM-': 'Other \\n CD8+ $T_{CM}$ cells',\n",
    "          'CD57, CD28 subset-': 'Other $T_{EMRA}$ cells',\n",
    "          'KLRG1, TIGIT subset-': 'Other $T_{EMRA}$ cells',\n",
    "          'CD27-, TIGIT subset+': '$T_{SN}$',\n",
    "          'CD27-, TIGIT subset-': 'Other $T_{EMRA}$ cells'}\n",
    "\n",
    "# Which names form a discrete subset\n",
    "subsets = {'TIM-3+ CD4+ $T_{EM}$': ['TIM-3+ \\n CD4+ $T_{EM}$', \n",
    "                             'TIM-3- \\n CD4+ $T_{EM}$'],\n",
    "           'CD4+ $T_{SCM}$': ['CD4+ $T_{SCM}$', \n",
    "                              'CD4+ $T_{N}$'],\n",
    "           'TIGIT+/KLRG1+ CD8+ $T_{CM}$': ['TIGIT+/KLRG1+ \\n CD8+ $T_{CM}$', \n",
    "                             'Other \\n CD8+ $T_{CM}$ cells'],\n",
    "           'CD8+ $T_{SN}$': ['$T_{SN}$', \n",
    "                             'Other $T_{EMRA}$ cells']}"
   ]
  },
  {
   "cell_type": "code",
   "execution_count": null,
   "id": "2bf88b08",
   "metadata": {},
   "outputs": [],
   "source": [
    "order = ['CyTOFmerge', 'CytoBackBone', 'cyCombine', 'Infinicyt']\n",
    "scores = []\n",
    "\n",
    "for name in order:\n",
    "    print(name)\n",
    "    # Load the concatenated expression data\n",
    "    exprs = DataFrame.from_fcs(imputed_path + '001_' + name + '_exprs.fcs')\n",
    "    exprs = exprs.reset_index(drop=True)\n",
    "    gates = pd.read_csv(labeling_path + '001_' + name + '_labels.csv', index_col=0)\n",
    "    gates = gates.reset_index(drop=True)\n",
    "    exprs = pd.concat([exprs, gates], axis=1)\n",
    "\n",
    "    # Parse and rename populations\n",
    "    exprs['Population'] = [i.split('/')[-1] for i in exprs['V1']]\n",
    "    for i in pop_prefixes:\n",
    "        exprs['Population'] = exprs['Population'].replace(i+'-', rename[i+'-'])\n",
    "        try:\n",
    "            exprs['Population'] = exprs['Population'].replace(i+'+', rename[i+'+'])\n",
    "        except KeyError:\n",
    "            continue\n",
    "            \n",
    "    gt_data = exprs[exprs['imp_state']==0]\n",
    "    imp_data = exprs[exprs['imp_state']==1]\n",
    "    \n",
    "    for subset in subsets:\n",
    "        gt_temp = gt_data.copy()\n",
    "        imp_temp = imp_data.copy()\n",
    "        \n",
    "        # Store counts/proportions\n",
    "        gt_count = len(gt_temp[gt_temp['Population']==subsets[subset][0]])\n",
    "        gt_prop = gt_count / len(gt_temp)\n",
    "        imp_count = len(imp_temp[imp_temp['Population']==subsets[subset][0]])\n",
    "        imp_prop = imp_count / len(imp_temp)\n",
    "        if gt_count != 0:\n",
    "            perc_change = ((imp_prop - gt_prop) / gt_prop) * 100\n",
    "        else:\n",
    "            perc_change = None\n",
    "        \n",
    "        # Save results\n",
    "        result = {'Method': name,\n",
    "                  'Population': subset,\n",
    "                  'Ground-truth count': gt_count,\n",
    "                  'Ground-truth proportion': gt_prop,\n",
    "                  'Ground-truth abundance': gt_prop * 100,\n",
    "                  'Imputed count': imp_count,\n",
    "                  'Imputed proportion': imp_prop,\n",
    "                  'Imputed abundance': imp_prop * 100,\n",
    "                  '% Change': perc_change}\n",
    "        scores.append(result)\n",
    "                              \n",
    "statistics = pd.DataFrame(scores)"
   ]
  },
  {
   "cell_type": "code",
   "execution_count": null,
   "id": "a40ff690",
   "metadata": {},
   "outputs": [],
   "source": [
    "absolute = statistics.copy()\n",
    "absolute['% Change'] = abs(absolute['% Change'])\n",
    "absolute[['Method', '% Change']].groupby('Method').mean()"
   ]
  }
 ],
 "metadata": {
  "kernelspec": {
   "display_name": "Python 3 (ipykernel)",
   "language": "python",
   "name": "python3"
  },
  "language_info": {
   "codemirror_mode": {
    "name": "ipython",
    "version": 3
   },
   "file_extension": ".py",
   "mimetype": "text/x-python",
   "name": "python",
   "nbconvert_exporter": "python",
   "pygments_lexer": "ipython3",
   "version": "3.9.10"
  }
 },
 "nbformat": 4,
 "nbformat_minor": 5
}
