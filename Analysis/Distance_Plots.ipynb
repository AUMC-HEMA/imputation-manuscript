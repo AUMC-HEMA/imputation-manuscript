{
 "cells": [
  {
   "cell_type": "markdown",
   "id": "d4d4f411",
   "metadata": {},
   "source": [
    "Author: Tim Mocking\n",
    "\n",
    "Contact: t.r.mocking@amsterdamumc.nl"
   ]
  },
  {
   "cell_type": "code",
   "execution_count": null,
   "id": "b2472723",
   "metadata": {},
   "outputs": [],
   "source": [
    "# File locations\n",
    "imputed_path = ''\n",
    "gt_path = ''\n",
    "figures_path =  ''"
   ]
  },
  {
   "cell_type": "code",
   "execution_count": null,
   "id": "cbe6b402",
   "metadata": {},
   "outputs": [],
   "source": [
    "# Import all relevant packages\n",
    "import pandas as pd\n",
    "import numpy as np\n",
    "from fcsy import DataFrame\n",
    "import matplotlib.pyplot as plt\n",
    "from matplotlib.lines import Line2D\n",
    "import seaborn as sns\n",
    "from utils import load_data\n",
    "from scipy.stats import pearsonr\n",
    "from statistics import mean, median, stdev\n",
    "from scipy.stats import wasserstein_distance\n",
    "from sklearn.metrics import rand_score, adjusted_rand_score, confusion_matrix, \\\n",
    "classification_report, mean_squared_error, recall_score, accuracy_score\n",
    "from statannot import add_stat_annotation\n",
    "%load_ext autoreload\n",
    "%autoreload 2\n",
    "# Set plotting style\n",
    "plt.style.use('plotstyle.mplstyle')"
   ]
  },
  {
   "cell_type": "code",
   "execution_count": null,
   "id": "d3b6f83d",
   "metadata": {
    "scrolled": true
   },
   "outputs": [],
   "source": [
    "data = load_data(gt_path, imputed_path)"
   ]
  },
  {
   "cell_type": "code",
   "execution_count": null,
   "id": "937ea9f0",
   "metadata": {},
   "outputs": [],
   "source": [
    "def calculate_statistics(expression_data, bb_markers, rename, marker_setup, \n",
    "                         methods=['CyTOFmerge', 'cyCombine', 'CytoBackBone', 'Infinicyt'],\n",
    "                         sample_col='sample_id'):\n",
    "    bin_results = []\n",
    "    results = []\n",
    "    for method in methods:\n",
    "        method_data = expression_data[expression_data['method']==method]\n",
    "        for sample_id in expression_data[sample_col].unique():\n",
    "            sample_data = method_data[method_data[sample_col]==sample_id]\n",
    "            # Filter out unimputed data by cyCombine\n",
    "            sample_data = sample_data[sample_data['cyCombine_NA']!=True]\n",
    "            if len(sample_data) == 0:\n",
    "                print('No sample for '+ method + ' ' + sample_id)\n",
    "                continue\n",
    "            sample_data = sample_data.rename(columns=rename)\n",
    "            imputed_data = sample_data[sample_data['imp_state'] == 1]\n",
    "            gt_data = sample_data[sample_data['imp_state'] == 0]\n",
    "            \n",
    "            assert(len(imputed_data) == len(gt_data))\n",
    "            \n",
    "            # Loop over all imputed channels\n",
    "            for channel in rename.values():\n",
    "                # In CytoBackBone we don't have a \"dataset\" component\n",
    "                if method != 'CytoBackBone':\n",
    "                    imputed_ds = imputed_data[imputed_data['dataset']==marker_setup[channel]]\n",
    "                    gt_ds = gt_data[gt_data['dataset']==marker_setup[channel]]\n",
    "                else:\n",
    "                    imputed_ds = imputed_data\n",
    "                    gt_ds = gt_data\n",
    "                # Calculate pearson correlation, earth mover's distance\n",
    "                if len(imputed_ds[channel].unique()) == 1:\n",
    "                    imputed_ds = imputed_ds.reset_index(drop=True)\n",
    "                    imputed_ds.loc[0,channel] = 0.00001\n",
    "                cor = pearsonr(imputed_ds[channel], gt_ds[channel])[0]\n",
    "                RMSD = mean_squared_error(imputed_ds[channel], gt_ds[channel], squared=False)\n",
    "\n",
    "                # Calculate statistics per quantile\n",
    "                if method == 'CyTOFmerge':\n",
    "                    bin_dict = {'Method':method, 'Channel':channel, 'Sample':sample_id}\n",
    "                    bins = [0, 0.1, 0.2, 0.3, 0.4, 0.5, 0.6, 0.7, 0.8, 0.9, 1]\n",
    "                    for i in range(len(bins)):\n",
    "                        if i != len(bins)-1:\n",
    "                            print(bins[i], bins[i+1])\n",
    "                            lower = gt_ds[channel].quantile(bins[i])\n",
    "                            upper = gt_ds[channel].quantile(bins[i+1])\n",
    "                            gt_bin = gt_ds[(gt_ds[channel] >= lower) & (gt_ds[channel] < upper)]\n",
    "                            imp_bin = imputed_ds[imputed_ds['original_ID'].isin(list(gt_bin['original_ID']))]\n",
    "                            bin_cor = pearsonr(gt_bin[channel], imp_bin[channel])[0]\n",
    "                            bin_dict[str(bins[i])+' - '+str(bins[i+1])] = bin_cor\n",
    "                    bin_results.append(bin_dict)\n",
    "                ymin = np.percentile(gt_ds[channel], 0.1)\n",
    "                if ymin == 0:\n",
    "                    ymin = 0.01\n",
    "                ymax = np.percentile(gt_ds[channel], 99.9)\n",
    "                NRMSD = RMSD / (ymax - ymin)\n",
    "                EMD = wasserstein_distance(imputed_ds[channel], gt_ds[channel])\n",
    "                cors = None\n",
    "                results.append({'Method':method,\n",
    "                                'Channel':channel, \n",
    "                                'r':cor,\n",
    "                                'EMD':EMD, \n",
    "                                'RMSD': RMSD,\n",
    "                                'NRMSD': NRMSD,\n",
    "                                'Sample':sample_id,\n",
    "                                'n_cells':len(gt_data)})\n",
    "    results = pd.DataFrame(results)\n",
    "    return results, bin_results"
   ]
  },
  {
   "cell_type": "code",
   "execution_count": null,
   "id": "ea592c9d",
   "metadata": {},
   "outputs": [],
   "source": [
    "flow_variable1 = ['FITC-A', 'APC-A', 'BV605-A', 'BV786-A']\n",
    "flow_variable2 = ['PE-A', 'PE-CF594-A', 'BV711-A', 'PC7-A']\n",
    "flow_bb = [\"HV500c-A\", \"BUV395-A\", \"PerCP-Cy5-5-A\", \"BUV737-A\", \"BUV496-A\", \"BV421-A\", \"APC-R700-A\"]\n",
    "\n",
    "# Define how the different channels should be renamed in plots\n",
    "flow_rename = {'APC-A':'KLRG1',\n",
    "               'BV711-A':'TIM-3',\n",
    "               'FITC-A':'CD57',\n",
    "               'BV786-A':'CD27',\n",
    "               'PE-A':'CD28',\n",
    "               'PE-CF594-A':'CD95',\n",
    "               'PC7-A':'TIGIT',\n",
    "               'BV605-A':'PD-1'}\n",
    "\n",
    "# Define which markers are imputed in which dataset\n",
    "flow_marker_setup = {'CD57':2,\n",
    "                     'KLRG1':2,\n",
    "                     'PD-1':2,\n",
    "                     'CD27':2,\n",
    "                     'CD28':1,\n",
    "                     'CD95':1,\n",
    "                     'TIM-3':1,\n",
    "                     'TIGIT':1}\n",
    "\n",
    "flow_statistics, flow_bins = calculate_statistics(data, flow_bb, flow_rename, flow_marker_setup)"
   ]
  },
  {
   "cell_type": "markdown",
   "id": "8e269f4d",
   "metadata": {},
   "source": [
    "# Supplemental Figure 5"
   ]
  },
  {
   "cell_type": "code",
   "execution_count": null,
   "id": "afb4f112",
   "metadata": {},
   "outputs": [],
   "source": [
    "temp = pd.DataFrame(flow_bins)\n",
    "temp = temp.rename(columns={'Channel':'Marker'})\n",
    "melt = pd.melt(temp, id_vars=['Method', 'Marker', 'Sample'])\n",
    "fig = plt.figure(figsize=(3, 4))\n",
    "sns.lineplot(data=melt[melt['Marker'].isin(['CD95', 'CD57', 'PD-1'])],\n",
    "                       x='variable', y='value', hue='Marker')\n",
    "\n",
    "# sns.scatterplot(data=melt, x='variable', y='value')\n",
    "plt.xlabel('Quantile bin')\n",
    "plt.ylabel('Pearson correlation')\n",
    "plt.xticks(rotation=45)\n",
    "\n",
    "plt.savefig(figures_path + 'Supplemental Figure 5.png', dpi=300, bbox_inches='tight')\n",
    "plt.savefig(figures_path + 'Supplemental Figure 5.tiff', dpi=300, bbox_inches='tight')"
   ]
  },
  {
   "cell_type": "markdown",
   "id": "534ebc49",
   "metadata": {},
   "source": [
    "# Figure 2"
   ]
  },
  {
   "cell_type": "code",
   "execution_count": null,
   "id": "b115446b",
   "metadata": {},
   "outputs": [],
   "source": [
    "fig = plt.figure(figsize=(10, 4))\n",
    "\n",
    "gs = fig.add_gridspec(nrows=1, ncols=2, width_ratios=[0.8, 0.2])\n",
    "\n",
    "order = ['Infinicyt', 'CyTOFmerge', 'CytoBackBone', 'cyCombine']\n",
    "palette = ['#f47f2a', '#009cb4', '#ee1d24', '#694893']\n",
    "\n",
    "ax = fig.add_subplot(gs[0, 0])\n",
    "sns.barplot(data=flow_statistics, x='Channel', y='EMD', hue='Method', hue_order=order,\n",
    "            palette=palette, capsize=.05, errwidth=1.25, saturation=1, \n",
    "            estimator=median, errorbar=('pi', 50), ax=ax)\n",
    "ax.set_xlabel('')\n",
    "ax.legend([], frameon=False)\n",
    "ax.set_ylabel(\"Earth mover's distance\", fontsize=12)\n",
    "ax.set_yscale('log')\n",
    "\n",
    "ax.legend(bbox_to_anchor=(1.75, 0.7), ncol=1, fontsize=12)\n",
    "\n",
    "ax = fig.add_subplot(gs[0, 1])\n",
    "sns.boxplot(data=flow_statistics, x='Method', y='EMD', order=order,\n",
    "            palette=palette, saturation=1, ax=ax)\n",
    "ax.set_xlabel('')\n",
    "ax.set_xticklabels([])\n",
    "ax.legend([], frameon=False)\n",
    "ax.set_yscale('log')\n",
    "ax.set_ylabel(\"Earth mover's distance\", fontsize=12)\n",
    "# add_stat_annotation(ax, data=flow_statistics, x='Method', y=\"EMD\", order=order,\n",
    "#                     box_pairs=[(\"Infinicyt\", \"CyTOFmerge\")],\n",
    "#                     test='t-test_paired', text_format='star', verbose=2, loc='outside')\n",
    "\n",
    "plt.subplots_adjust(wspace=0.2, hspace=0)\n",
    "\n",
    "plt.savefig(figures_path + 'Figure 2.png', dpi=300, bbox_inches='tight')\n",
    "plt.savefig(figures_path + 'Figure 2.tiff', dpi=300, bbox_inches='tight')"
   ]
  },
  {
   "cell_type": "markdown",
   "id": "a04386ce",
   "metadata": {},
   "source": [
    "# Figure 5"
   ]
  },
  {
   "cell_type": "code",
   "execution_count": null,
   "id": "b38df1cd",
   "metadata": {},
   "outputs": [],
   "source": [
    "fig = plt.figure(figsize=(10, 4))\n",
    "\n",
    "gs = fig.add_gridspec(nrows=1, ncols=2, width_ratios=[0.8, 0.2])\n",
    "\n",
    "order = ['Infinicyt', 'CyTOFmerge', 'CytoBackBone', 'cyCombine']\n",
    "palette = ['#f47f2a', '#009cb4', '#ee1d24', '#694893']\n",
    "\n",
    "ax = fig.add_subplot(gs[0, 0])\n",
    "sns.barplot(data=flow_statistics, x='Channel', y='r', hue='Method', hue_order=order,\n",
    "            palette=palette, capsize=.05, errwidth=1.25, saturation=1, \n",
    "            estimator=median, errorbar=('pi', 50), ax=ax)\n",
    "ax.set_xlabel('')\n",
    "ax.legend([], frameon=False)\n",
    "ax.set_ylabel(\"Pearson correlation\", fontsize=12)\n",
    "\n",
    "ax.legend(bbox_to_anchor=(1.75, 0.7), ncol=1, fontsize=12)\n",
    "\n",
    "ax = fig.add_subplot(gs[0, 1])\n",
    "sns.boxplot(data=flow_statistics, x='Method', y='r', order=order,\n",
    "            palette=palette, saturation=1, ax=ax)\n",
    "ax.set_xlabel('')\n",
    "ax.set_xticklabels([])\n",
    "ax.legend([], frameon=False)\n",
    "ax.set_ylabel(\"Pearson correlation\", fontsize=12)\n",
    "# add_stat_annotation(ax, data=flow_statistics, x='Method', y=\"NRMSD\", order=order,\n",
    "#                     box_pairs=[(\"Infinicyt\", \"CyTOFmerge\"),\n",
    "#                                (\"CyTOFmerge\", \"CytoBackBone\"),\n",
    "#                                (\"CytoBackBone\", \"cyCombine\"),\n",
    "#                                (\"cyCombine\", \"Infinicyt\"),\n",
    "#                                (\"Infinicyt\", \"CytoBackBone\"),\n",
    "#                                (\"cyCombine\", \"CyTOFmerge\")],\n",
    "#                     test='t-test_paired', text_format='star', verbose=2)\n",
    "plt.subplots_adjust(wspace=0.2, hspace=0)\n",
    "\n",
    "plt.savefig(figures_path + 'Figure 5.png', dpi=300, bbox_inches='tight')\n",
    "plt.savefig(figures_path + 'Figure 5.tiff', dpi=300, bbox_inches='tight')"
   ]
  },
  {
   "cell_type": "markdown",
   "id": "3cfd9e86",
   "metadata": {},
   "source": [
    "# Supplemental Figure 6"
   ]
  },
  {
   "cell_type": "code",
   "execution_count": null,
   "id": "b567a83b",
   "metadata": {
    "scrolled": false
   },
   "outputs": [],
   "source": [
    "fig = plt.figure(figsize=(10, 4))\n",
    "\n",
    "gs = fig.add_gridspec(nrows=1, ncols=2, width_ratios=[0.8, 0.2])\n",
    "\n",
    "order = ['Infinicyt', 'CyTOFmerge', 'CytoBackBone', 'cyCombine']\n",
    "palette = ['#f47f2a', '#009cb4', '#ee1d24', '#694893']\n",
    "\n",
    "ax = fig.add_subplot(gs[0, 0])\n",
    "sns.barplot(data=flow_statistics, x='Channel', y='NRMSD', hue='Method', hue_order=order,\n",
    "            palette=palette, capsize=.05, errwidth=1.25, saturation=1, \n",
    "            estimator=median, errorbar=('pi', 50), ax=ax)\n",
    "ax.set_xlabel('')\n",
    "ax.legend([], frameon=False)\n",
    "ax.set_ylabel(\"NRMSD\", fontsize=12)\n",
    "\n",
    "ax.legend(bbox_to_anchor=(1.75, 0.7), ncol=1, fontsize=12)\n",
    "\n",
    "ax = fig.add_subplot(gs[0, 1])\n",
    "sns.boxplot(data=flow_statistics, x='Method', y='NRMSD', order=order,\n",
    "            palette=palette, saturation=1, ax=ax)\n",
    "ax.set_xlabel('')\n",
    "ax.set_xticklabels([])\n",
    "ax.legend([], frameon=False)\n",
    "ax.set_ylabel(\"NRMSD\", fontsize=12)\n",
    "# add_stat_annotation(ax, data=flow_statistics, x='Method', y=\"NRMSD\", order=order,\n",
    "#                     box_pairs=[(\"Infinicyt\", \"CyTOFmerge\"),\n",
    "#                                (\"CyTOFmerge\", \"CytoBackBone\"),\n",
    "#                                (\"CytoBackBone\", \"cyCombine\"),\n",
    "#                                (\"cyCombine\", \"Infinicyt\"),\n",
    "#                                (\"Infinicyt\", \"CytoBackBone\"),\n",
    "#                                (\"cyCombine\", \"CyTOFmerge\")],\n",
    "#                     test='t-test_paired', text_format='star', verbose=2)\n",
    "plt.subplots_adjust(wspace=0.2, hspace=0)\n",
    "\n",
    "plt.savefig(figures_path + 'Supplemental Figure 6.png', dpi=300, bbox_inches='tight')\n",
    "plt.savefig(figures_path + 'Supplemental Figure 6.tiff', dpi=300, bbox_inches='tight')"
   ]
  },
  {
   "cell_type": "code",
   "execution_count": null,
   "id": "e515267d",
   "metadata": {},
   "outputs": [],
   "source": [
    "flow_statistics.groupby(['Channel']).mean()"
   ]
  },
  {
   "cell_type": "code",
   "execution_count": null,
   "id": "97d40599",
   "metadata": {},
   "outputs": [],
   "source": [
    "flow_statistics.groupby(['Channel']).std()"
   ]
  },
  {
   "cell_type": "code",
   "execution_count": null,
   "id": "feea5d92",
   "metadata": {},
   "outputs": [],
   "source": [
    "flow_statistics.groupby(['Method']).mean()"
   ]
  },
  {
   "cell_type": "code",
   "execution_count": null,
   "id": "e6c2eb8c",
   "metadata": {},
   "outputs": [],
   "source": [
    "flow_statistics.groupby(['Method']).std()"
   ]
  },
  {
   "cell_type": "code",
   "execution_count": null,
   "id": "3397a068",
   "metadata": {},
   "outputs": [],
   "source": [
    "flow_statistics.groupby(['Method', 'Channel']).mean().sort_values('r')"
   ]
  }
 ],
 "metadata": {
  "kernelspec": {
   "display_name": "Python 3 (ipykernel)",
   "language": "python",
   "name": "python3"
  },
  "language_info": {
   "codemirror_mode": {
    "name": "ipython",
    "version": 3
   },
   "file_extension": ".py",
   "mimetype": "text/x-python",
   "name": "python",
   "nbconvert_exporter": "python",
   "pygments_lexer": "ipython3",
   "version": "3.9.10"
  }
 },
 "nbformat": 4,
 "nbformat_minor": 5
}
